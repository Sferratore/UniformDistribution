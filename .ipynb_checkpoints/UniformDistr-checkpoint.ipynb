{
 "cells": [
  {
   "cell_type": "code",
   "execution_count": 4,
   "id": "b18db893-c023-4383-919e-fef677984785",
   "metadata": {},
   "outputs": [],
   "source": [
    "from scipy.stats import uniform"
   ]
  },
  {
   "cell_type": "code",
   "execution_count": 5,
   "id": "1ade6590-056f-46e3-9779-d2bf1be7687d",
   "metadata": {},
   "outputs": [],
   "source": [
    "import numpy as npy\n",
    "npy.random.seed(0)"
   ]
  },
  {
   "cell_type": "code",
   "execution_count": 6,
   "id": "b0ee942d-d341-492a-8b23-a15be94d6e42",
   "metadata": {},
   "outputs": [],
   "source": [
    "import matplotlib.pyplot as pyplt"
   ]
  },
  {
   "cell_type": "code",
   "execution_count": 9,
   "id": "1daf0eba-9f1b-45c1-aa4f-b3bcf7c4165b",
   "metadata": {},
   "outputs": [
    {
     "data": {
      "text/plain": [
       "[<matplotlib.lines.Line2D at 0x18502a43e00>]"
      ]
     },
     "execution_count": 9,
     "metadata": {},
     "output_type": "execute_result"
    },
    {
     "data": {
      "image/png": "[encoded data removed]",
      "text/plain": [
       "<Figure size 640x480 with 1 Axes>"
      ]
     },
     "metadata": {},
     "output_type": "display_data"
    }
   ],
   "source": [
    "x = npy.arange(0,1,0.05)\n",
    "y = uniform.pdf(x) # Gives probability of result being inside the range given\n",
    "pyplt.plot(x, y)"
   ]
  },
  {
   "cell_type": "code",
   "execution_count": null,
   "id": "da6b6cdf-ba0c-43f8-81aa-e0db15c6d1d9",
   "metadata": {},
   "outputs": [],
   "source": []
  }
 ],
 "metadata": {
  "kernelspec": {
   "display_name": "Python 3 (ipykernel)",
   "language": "python",
   "name": "python3"
  },
  "language_info": {
   "codemirror_mode": {
    "name": "ipython",
    "version": 3
   },
   "file_extension": ".py",
   "mimetype": "text/x-python",
   "name": "python",
   "nbconvert_exporter": "python",
   "pygments_lexer": "ipython3",
   "version": "3.12.0"
  }
 },
 "nbformat": 4,
 "nbformat_minor": 5
}
